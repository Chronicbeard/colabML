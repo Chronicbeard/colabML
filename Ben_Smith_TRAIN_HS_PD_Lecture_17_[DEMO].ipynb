{
  "nbformat": 4,
  "nbformat_minor": 0,
  "metadata": {
    "colab": {
      "provenance": [],
      "collapsed_sections": [
        "yfhYEpXxnSS1",
        "3f6t0yYBhCsm",
        "p5iUBJ9h6b3x",
        "NQy_QoPdGEwj",
        "b-_wk0TwIg7M",
        "3ngQ1FcJJLsY",
        "Ut8ZOpsY_1rE"
      ],
      "include_colab_link": true
    },
    "kernelspec": {
      "name": "python3",
      "display_name": "Python 3"
    },
    "language_info": {
      "name": "python"
    }
  },
  "cells": [
    {
      "cell_type": "markdown",
      "metadata": {
        "id": "view-in-github",
        "colab_type": "text"
      },
      "source": [
        "<a href=\"https://colab.research.google.com/github/Chronicbeard/colabML/blob/main/Ben_Smith_TRAIN_HS_PD_Lecture_17_%5BDEMO%5D.ipynb\" target=\"_parent\"><img src=\"https://colab.research.google.com/assets/colab-badge.svg\" alt=\"Open In Colab\"/></a>"
      ]
    },
    {
      "cell_type": "markdown",
      "source": [
        "# **Lecture 17: Q-Learning Demo**\n",
        "---\n",
        "\n",
        "\n",
        "### **Description**\n",
        "This notebook demonstrates how to use Q-Learning for several games.\n",
        "\n",
        "<br>\n",
        "\n",
        "### **Structure**\n",
        "* **Part 1**: [Gridworld](#p1)\n",
        "\n",
        "* **Part 2**: [Frozen Lake](#p2)\n",
        "\n",
        "<br>\n",
        "\n",
        "**Run the code below to install and import all necessary libraries, functions, and datasets.**\n"
      ],
      "metadata": {
        "id": "mbZXQ3rA3NwL"
      }
    },
    {
      "cell_type": "code",
      "source": [
        "import numpy as np\n",
        "import matplotlib.pyplot as plt\n",
        "import pandas as pd\n",
        "\n",
        "from IPython import display\n",
        "import time\n",
        "\n",
        "import gym"
      ],
      "metadata": {
        "id": "vy-dRqQa9guf"
      },
      "execution_count": null,
      "outputs": []
    },
    {
      "cell_type": "markdown",
      "source": [
        "<a name=\"p1\"></a>\n",
        "\n",
        "---\n",
        "## **Part 1: Gridworld**\n",
        "---\n",
        "\n",
        "<br>\n",
        "\n",
        "### ***Read before implementing.***\n",
        "\n",
        "\n",
        "Gridworld is a game in which a player aims to travel from the start position to the goal position in the fewest moves possible. We will explore the game ourselves first, understand how rewards are given, and build a reinforcement learning agent that learns to play the game. Here is an overview of the game:\n",
        "\n",
        "<br>\n",
        "\n",
        "### **The Goal**\n",
        "**The goal of Gridworld is to get the red block (the player) to the blue block (the goal state) in the shortest distance possible.**\n",
        "\n",
        "* The `Red` block represents the Agent.\n",
        "\n",
        "* The `Blue` block represents the Goal State.\n",
        "\n",
        "* `Grey` blocks represent obstructions.\n",
        "\n",
        "<br>\n",
        "\n",
        "### **Initializing the Game**\n",
        "\n",
        "Running `new_game = Create_game()` will create a new instance of the game and store it in the variable `new_game`.\n",
        "\n",
        "<br>\n",
        "\n",
        "### **Important Components of the Game**\n",
        "\n",
        "1. `new_game.running` will return `True` if the game is in progress or `False` if the game is over.\n",
        "\n",
        "\n",
        "2. `new_game.start_pos` will give the starting position of the player.\n",
        "\n",
        "\n",
        "3. `state, reward = new_game.move(action)` will move the player in the game and returns two values:\n",
        "  `current_state` and `reward`.\n",
        "\n",
        "  **There are 4 valid moves:**\n",
        "\n",
        "  `0` Will move the player **North**.\n",
        "\n",
        "  `1` Will move the player **East**.\n",
        "\n",
        "  `2` Will move the player **South**.\n",
        "\n",
        "  `3` Will move the player **West**.\n",
        "\n",
        "\n",
        "4. `new_game.display()` draws a visual representation of the game.\n",
        "\n",
        "  **There are 2 optional arguments you can pass into `.display`:**\n",
        "    1. `new_game.display(show_reward=True)` shows the reward associated with landing at each positon on the grid.\n",
        "    2. `new_game.display(Q=Qvalues)` - By passing in the Q values of your RL agent you can visualize what the strategy of the Agent at each point of the map."
      ],
      "metadata": {
        "id": "yfhYEpXxnSS1"
      }
    },
    {
      "cell_type": "markdown",
      "metadata": {
        "id": "3f6t0yYBhCsm"
      },
      "source": [
        "<a name=\"p1.1\"></a>\n",
        "\n",
        "---\n",
        "### **Part 1.1: Practice Together**\n",
        "---\n",
        "\n",
        "We will start by doing the following:\n",
        "\n",
        "1. Load in the game\n",
        "2. Familiarize ourselves with the game and the associated rules\n",
        "3. Create and train the RL agent\n",
        "4. Observe the Agent playing the game\n",
        "5. Visualize the strategy of the Agent\n"
      ]
    },
    {
      "cell_type": "markdown",
      "metadata": {
        "id": "p5iUBJ9h6b3x"
      },
      "source": [
        "#### **Step #1: Load the Game generator**\n",
        "\n",
        "**Run the following code to load the game generator.**\n",
        "\n",
        "<br>\n",
        "\n",
        "**NOTE**: This game generator, which is mostly for drawing the game visualizations, is completed for you. You may look at the code inside it, *but do not edit it*."
      ]
    },
    {
      "cell_type": "code",
      "source": [
        "#@title Create_game() { display-mode: \"form\" }\n",
        "class Create_game():\n",
        "  def __init__(self):\n",
        "    # Game is running\n",
        "    self.running = True\n",
        "    self.display_init = False\n",
        "    self.display_update = False\n",
        "    # self.display_clear = False\n",
        "\n",
        "    # Create border for 12x12\n",
        "    self.grid = (12,12)\n",
        "    self.blocks = np.array([142, 143, 3, 35, 8, 135, 84, 120, 139, 36, 133, 4, 9, 131,\n",
        "                   71, 132, 23, 141, 5, 48, 10, 0, 59, 137, 138, 140, 119, 6,\n",
        "                   11, 60, 1, 96, 136, 12, 95, 7, 107, 134, 47, 2, 72, 108, 24, 83])\n",
        "\n",
        "    # Add in goal, agent block\n",
        "    self.goal_pos = 33\n",
        "    self.start_pos = 75\n",
        "    self.player_pos = 75\n",
        "\n",
        "    # Create Reward Table\n",
        "    self.rewards = np.ones((144)) * -1\n",
        "    self.rewards[self.blocks] = -10\n",
        "    self.rewards[self.goal_pos] = 50\n",
        "\n",
        "  def display(self, show_rewards=False, Q=None):\n",
        "    if self.display_init:\n",
        "      self.ax.set_title(\"The Land of GridWorld\")\n",
        "      self.ax.axis('off')\n",
        "      if show_rewards:\n",
        "        for pos in range(len(self.rewards)):\n",
        "            i, j = np.unravel_index(pos, self.grid, order=\"F\")\n",
        "            self.ax.text(i,j,self.rewards[pos],ha='center',va='center')\n",
        "            self.display_init = False\n",
        "      elif Q is not None:\n",
        "        for pos in range(len(Q)):\n",
        "          i, j = np.unravel_index(pos, self.grid, order=\"F\")\n",
        "          arrow_dict = {0:(0,0.4),1:(0.4,0),2:(0,-0.4),3:(-0.4,0)}\n",
        "          dx, dy = arrow_dict[np.argmax(Q[pos,:])]\n",
        "          self.ax.arrow(i, j , dx , dy , fc=\"k\", ec=\"k\", head_width=0.1, head_length=0.1)\n",
        "        self.display_init = False\n",
        "      temp_board = self.visual_board.copy()\n",
        "      temp_board[self.player_pos] = (240, 15, 60)\n",
        "      self.ax.imshow(temp_board.reshape(*self.grid,3), origin=\"lower\")\n",
        "      if self.display_update:\n",
        "        self.hdisplay.update(self.fig)\n",
        "      self.display_update = True\n",
        "\n",
        "    else:\n",
        "       # Prepare Rendering Engine\n",
        "      self.hdisplay = display.display(\"12x12 Game Board\", display_id=True)\n",
        "      self.fig, self.ax = plt.subplots(figsize=(7,7))\n",
        "      # Create Visual Board\n",
        "      self.visual_board = np.array([(255,255,255) for _ in range(144)])\n",
        "      self.visual_board[self.goal_pos] = (11, 218, 222)\n",
        "      self.visual_board[self.blocks] = (120, 124, 125)\n",
        "      self.display_init = True\n",
        "      self.display_update = False\n",
        "      self.display(show_rewards=show_rewards, Q=Q)\n",
        "\n",
        "  def move(self, action):\n",
        "    move_dict = {0:(1,0),1:(0,1),2:(-1,0),3:(0,-1)}\n",
        "    # Convert action to a proposed new state in flat form\n",
        "    cartesian_pos = np.unravel_index(self.player_pos, self.grid)\n",
        "    move = move_dict[action]\n",
        "    new_cartesian_pos = np.array(cartesian_pos) + np.array(move)\n",
        "    new_pos = np.ravel_multi_index(new_cartesian_pos, self.grid)\n",
        "\n",
        "    if new_pos == self.goal_pos:\n",
        "      # Reached Goal State\n",
        "      self.running = False\n",
        "      self.player_pos = new_pos\n",
        "    elif new_pos not in self.blocks:\n",
        "      # Valid Move\n",
        "      self.player_pos = new_pos\n",
        "\n",
        "    return (self.player_pos, self.rewards[new_pos])"
      ],
      "metadata": {
        "id": "XnqIJUvXEDIk"
      },
      "execution_count": null,
      "outputs": []
    },
    {
      "cell_type": "markdown",
      "source": [
        "#### **Step #2 Play the game ourselves**\n",
        "\n",
        "***This code is completed for you***\n",
        "\n",
        "The Game can be played as a traditional user input game. Run this cell to open up an input box.\n",
        "\n",
        "To move the player (the red square) around, input:\n",
        "0. North (Up)\n",
        "1. East (Right)\n",
        "2. South (Down)\n",
        "3. West (Left)"
      ],
      "metadata": {
        "id": "0DHJBrRpzmxY"
      }
    },
    {
      "cell_type": "code",
      "source": [
        "# Run the game with Human Input\n",
        "\n",
        "simple_grid = Create_game()\n",
        "\n",
        "while simple_grid.running:\n",
        "  simple_grid.display()\n",
        "  simple_grid.move(int(input(\"Enter your move: \")))"
      ],
      "metadata": {
        "id": "pvZ_c5xdt4uB",
        "colab": {
          "base_uri": "https://localhost:8080/",
          "height": 945
        },
        "collapsed": true,
        "outputId": "3d829d6f-30e3-4f04-b9ea-135e33514125"
      },
      "execution_count": null,
      "outputs": [
        {
          "output_type": "display_data",
          "data": {
            "text/plain": [
              "'12x12 Game Board'"
            ],
            "application/vnd.google.colaboratory.intrinsic+json": {
              "type": "string"
            }
          },
          "metadata": {}
        },
        {
          "output_type": "error",
          "ename": "KeyboardInterrupt",
          "evalue": "ignored",
          "traceback": [
            "\u001b[0;31m---------------------------------------------------------------------------\u001b[0m",
            "\u001b[0;31mKeyboardInterrupt\u001b[0m                         Traceback (most recent call last)",
            "\u001b[0;32m<ipython-input-4-bda7846c8239>\u001b[0m in \u001b[0;36m<cell line: 5>\u001b[0;34m()\u001b[0m\n\u001b[1;32m      5\u001b[0m \u001b[0;32mwhile\u001b[0m \u001b[0msimple_grid\u001b[0m\u001b[0;34m.\u001b[0m\u001b[0mrunning\u001b[0m\u001b[0;34m:\u001b[0m\u001b[0;34m\u001b[0m\u001b[0;34m\u001b[0m\u001b[0m\n\u001b[1;32m      6\u001b[0m   \u001b[0msimple_grid\u001b[0m\u001b[0;34m.\u001b[0m\u001b[0mdisplay\u001b[0m\u001b[0;34m(\u001b[0m\u001b[0;34m)\u001b[0m\u001b[0;34m\u001b[0m\u001b[0;34m\u001b[0m\u001b[0m\n\u001b[0;32m----> 7\u001b[0;31m   \u001b[0msimple_grid\u001b[0m\u001b[0;34m.\u001b[0m\u001b[0mmove\u001b[0m\u001b[0;34m(\u001b[0m\u001b[0mint\u001b[0m\u001b[0;34m(\u001b[0m\u001b[0minput\u001b[0m\u001b[0;34m(\u001b[0m\u001b[0;34m\"Enter your move: \"\u001b[0m\u001b[0;34m)\u001b[0m\u001b[0;34m)\u001b[0m\u001b[0;34m)\u001b[0m\u001b[0;34m\u001b[0m\u001b[0;34m\u001b[0m\u001b[0m\n\u001b[0m",
            "\u001b[0;32m/usr/local/lib/python3.10/dist-packages/ipykernel/kernelbase.py\u001b[0m in \u001b[0;36mraw_input\u001b[0;34m(self, prompt)\u001b[0m\n\u001b[1;32m    849\u001b[0m                 \u001b[0;34m\"raw_input was called, but this frontend does not support input requests.\"\u001b[0m\u001b[0;34m\u001b[0m\u001b[0;34m\u001b[0m\u001b[0m\n\u001b[1;32m    850\u001b[0m             )\n\u001b[0;32m--> 851\u001b[0;31m         return self._input_request(str(prompt),\n\u001b[0m\u001b[1;32m    852\u001b[0m             \u001b[0mself\u001b[0m\u001b[0;34m.\u001b[0m\u001b[0m_parent_ident\u001b[0m\u001b[0;34m,\u001b[0m\u001b[0;34m\u001b[0m\u001b[0;34m\u001b[0m\u001b[0m\n\u001b[1;32m    853\u001b[0m             \u001b[0mself\u001b[0m\u001b[0;34m.\u001b[0m\u001b[0m_parent_header\u001b[0m\u001b[0;34m,\u001b[0m\u001b[0;34m\u001b[0m\u001b[0;34m\u001b[0m\u001b[0m\n",
            "\u001b[0;32m/usr/local/lib/python3.10/dist-packages/ipykernel/kernelbase.py\u001b[0m in \u001b[0;36m_input_request\u001b[0;34m(self, prompt, ident, parent, password)\u001b[0m\n\u001b[1;32m    893\u001b[0m             \u001b[0;32mexcept\u001b[0m \u001b[0mKeyboardInterrupt\u001b[0m\u001b[0;34m:\u001b[0m\u001b[0;34m\u001b[0m\u001b[0;34m\u001b[0m\u001b[0m\n\u001b[1;32m    894\u001b[0m                 \u001b[0;31m# re-raise KeyboardInterrupt, to truncate traceback\u001b[0m\u001b[0;34m\u001b[0m\u001b[0;34m\u001b[0m\u001b[0m\n\u001b[0;32m--> 895\u001b[0;31m                 \u001b[0;32mraise\u001b[0m \u001b[0mKeyboardInterrupt\u001b[0m\u001b[0;34m(\u001b[0m\u001b[0;34m\"Interrupted by user\"\u001b[0m\u001b[0;34m)\u001b[0m \u001b[0;32mfrom\u001b[0m \u001b[0;32mNone\u001b[0m\u001b[0;34m\u001b[0m\u001b[0;34m\u001b[0m\u001b[0m\n\u001b[0m\u001b[1;32m    896\u001b[0m             \u001b[0;32mexcept\u001b[0m \u001b[0mException\u001b[0m \u001b[0;32mas\u001b[0m \u001b[0me\u001b[0m\u001b[0;34m:\u001b[0m\u001b[0;34m\u001b[0m\u001b[0;34m\u001b[0m\u001b[0m\n\u001b[1;32m    897\u001b[0m                 \u001b[0mself\u001b[0m\u001b[0;34m.\u001b[0m\u001b[0mlog\u001b[0m\u001b[0;34m.\u001b[0m\u001b[0mwarning\u001b[0m\u001b[0;34m(\u001b[0m\u001b[0;34m\"Invalid Message:\"\u001b[0m\u001b[0;34m,\u001b[0m \u001b[0mexc_info\u001b[0m\u001b[0;34m=\u001b[0m\u001b[0;32mTrue\u001b[0m\u001b[0;34m)\u001b[0m\u001b[0;34m\u001b[0m\u001b[0;34m\u001b[0m\u001b[0m\n",
            "\u001b[0;31mKeyboardInterrupt\u001b[0m: Interrupted by user"
          ]
        },
        {
          "output_type": "display_data",
          "data": {
            "text/plain": [
              "<Figure size 700x700 with 1 Axes>"
            ],
            "image/png": "[encoded data removed]"
          },
          "metadata": {}
        }
      ]
    },
    {
      "cell_type": "markdown",
      "source": [
        "We can show the rewards associated with each position by passing the argument `show_rewards=True` into the display function:\n",
        "\n",
        "***Run the code below to view the rewards for each position on the map.***\n"
      ],
      "metadata": {
        "id": "w_Za4vSviSSp"
      }
    },
    {
      "cell_type": "code",
      "source": [
        "simple_grid.display(show_rewards=True)"
      ],
      "metadata": {
        "id": "dMHEdX6J3VIc",
        "colab": {
          "base_uri": "https://localhost:8080/",
          "height": 598
        },
        "outputId": "d87607f2-c17b-4a4a-b054-87d4768e1ccf"
      },
      "execution_count": null,
      "outputs": [
        {
          "output_type": "display_data",
          "data": {
            "text/plain": [
              "<Figure size 700x700 with 1 Axes>"
            ],
            "image/png": "[encoded data removed]"
          },
          "metadata": {}
        }
      ]
    },
    {
      "cell_type": "markdown",
      "source": [
        "#### **Steps #3 - 4: Create the RL Agent**\n",
        "\n",
        "In order to make the agent, you must create a **Q table** that is of the correct size (no. of states, no. actions).\n",
        "\n",
        "Each column in our table represents taking a specific action. Therefore, column 0 represents action 0.\n",
        "* If we have a 12 x 12 grid, there are **144 states**.\n",
        "* If we can move `N`,`S`,`E`,`W` there are **4 actions**.\n",
        "\n",
        "<br>\n",
        "\n",
        "The general pseudocode is as follows:\n",
        "\n",
        "```pseudocode\n",
        "Create a Q table full of random numbers.\n",
        "\n",
        "for episode in 100:\n",
        "  Create a game\n",
        "  Set the current_state equal to the starting game position\n",
        "  while the game is running:\n",
        "    Take the action which has the highest value for the current state\n",
        "    Make a move in the game using that action and record the new_state and reward\n",
        "    Update the Q table according to the Q function\n",
        "    Update the current state to the new state\n",
        "```\n",
        "\n",
        "<br>\n",
        "\n",
        "### **The Q function:**\n",
        "\n",
        "$$\n",
        "Q[S,A] = Q[S,A] + \\alpha \\{ reward + \\gamma\\max (Q[S_{new}]) - Q[S,A] \\}\n",
        "$$\n",
        "\n",
        "For our purposes we will set the learning rate $\\alpha$ `alpha = 0.5` and the discount factor $\\gamma$ `gamma = 0.8`\n",
        "\n",
        "<br>\n",
        "\n",
        "### **Useful functions:**\n",
        "\n",
        "**Generating a table of random numbers**\n",
        ">The `np.random.rand(x,y)` will create a grid of random numbers with `x` rows and `y` columns.\n",
        "\n",
        "**Getting the position of the max value of an arrar**\n",
        "> The `np.argmax(array)` will return the (zero indexed) position of the max value. For example `np.argmax([2,4,1,9,7,5])` will return `3`."
      ],
      "metadata": {
        "id": "hyQ-ODHIFZ1-"
      }
    },
    {
      "cell_type": "code",
      "source": [
        "Q = np.random.rand(144,4)\n",
        "alpha = 0.5\n",
        "gamma = 0.8\n",
        "\n",
        "for episode in range(100):\n",
        "  game = Create_game()\n",
        "  state = game.player_pos\n",
        "  while game.running:\n",
        "\n",
        "    # Choose an Action\n",
        "    action = np.argmax(Q[state])\n",
        "\n",
        "    # Make a move in the Game\n",
        "    new_state, reward = game.move(action)\n",
        "\n",
        "    # Update the Q table\n",
        "    Q[state, action] += 0.5*(reward + 0.8*np.max(Q[new_state]) - Q[state,action])\n",
        "\n",
        "    # Update the State\n",
        "    state = new_state"
      ],
      "metadata": {
        "id": "FguJYFNkpS_E"
      },
      "execution_count": null,
      "outputs": []
    },
    {
      "cell_type": "markdown",
      "source": [
        "#### **Step #5: Watch the Agent play the game - did it learn correctly?**\n",
        "\n",
        "***This code is completed for you.***\n",
        "\n",
        "To use the function, pass in the variable containing your Q values and the variable containing the game generator (here it is called `Create_game`)."
      ],
      "metadata": {
        "id": "NQy_QoPdGEwj"
      }
    },
    {
      "cell_type": "code",
      "source": [
        "# Test your agent!\n",
        "def test_agent(Q, Game):\n",
        "  test_game = Game()\n",
        "  state = test_game.player_pos\n",
        "\n",
        "  while test_game.running:\n",
        "    time.sleep(0.3)\n",
        "    action = np.argmax(Q[state])\n",
        "    state, _ = test_game.move(action)\n",
        "    test_game.display()\n",
        "\n",
        "  if state == test_game.goal_pos:\n",
        "    print(\"Agent Reached the Goal!\")\n",
        "\n",
        "# Pass your Q value table into this function below\n",
        "test_agent(Q, Create_game)"
      ],
      "metadata": {
        "id": "-hCnbVtUii4W",
        "colab": {
          "base_uri": "https://localhost:8080/",
          "height": 1000
        },
        "outputId": "c8b592c7-ff60-41a7-c224-a1b1b18e39c6"
      },
      "execution_count": null,
      "outputs": [
        {
          "output_type": "display_data",
          "data": {
            "text/plain": [
              "<Figure size 700x700 with 1 Axes>"
            ],
            "image/png": "[encoded data removed]"
          },
          "metadata": {}
        },
        {
          "output_type": "stream",
          "name": "stdout",
          "text": [
            "Agent Reached the Goal!\n"
          ]
        },
        {
          "output_type": "display_data",
          "data": {
            "text/plain": [
              "<Figure size 700x700 with 1 Axes>"
            ],
            "image/png": "[encoded data removed]"
          },
          "metadata": {}
        }
      ]
    },
    {
      "cell_type": "markdown",
      "source": [
        "#### **Step \\#6: Observe the strategy of the RL Agent.**\n",
        "\n",
        "The code below will produce an arrow at each square in the gridworld representing which action has the highest value. That is to say, if you agent lands on a given square, the arrow shows where they will move next.\n",
        "\n",
        "**Run the code below to look at where the arrows are pointing. Do you see a path to the goal?**"
      ],
      "metadata": {
        "id": "b-_wk0TwIg7M"
      }
    },
    {
      "cell_type": "code",
      "source": [
        "# Visualise the Strategy of the Q learning Agent\n",
        "s = Create_game()\n",
        "s.display(Q=Q)"
      ],
      "metadata": {
        "id": "sUH893_z5ywL",
        "colab": {
          "base_uri": "https://localhost:8080/",
          "height": 616
        },
        "outputId": "ec6fba70-858a-422d-b141-1576101231c8"
      },
      "execution_count": null,
      "outputs": [
        {
          "output_type": "display_data",
          "data": {
            "text/plain": [
              "'12x12 Game Board'"
            ],
            "application/vnd.google.colaboratory.intrinsic+json": {
              "type": "string"
            }
          },
          "metadata": {}
        },
        {
          "output_type": "display_data",
          "data": {
            "text/plain": [
              "<Figure size 700x700 with 1 Axes>"
            ],
            "image/png": "[encoded data removed]"
          },
          "metadata": {}
        }
      ]
    },
    {
      "cell_type": "markdown",
      "metadata": {
        "id": "3ngQ1FcJJLsY"
      },
      "source": [
        "<a name=\"p1.2\"></a>\n",
        "\n",
        "---\n",
        "### **Part 1.2: Gridworld level 2**\n",
        "---\n",
        "\n",
        "Now, we will be building a very similar RL agent as we did in Part 1, but this time **Gridworld** has obstacles in the map!\n",
        "\n",
        "Just as we did in Part 1 we will do the following in Part 2:\n",
        "\n",
        "1. Load in the new `game2`\n",
        "2. Familiarize ourselves with the new game and the associated rules\n",
        "3. Create and train the RL agent\n",
        "4. Observe the Agent playing the game\n",
        "5. Visualize the strategy of the Agent"
      ]
    },
    {
      "cell_type": "markdown",
      "metadata": {
        "id": "GIrdeSbYJhiX"
      },
      "source": [
        "#### **Step \\#1: Load the Game generator**\n",
        "\n",
        "**Run the following code to load the game generator.**\n",
        "\n",
        "<br>\n",
        "\n",
        "**NOTE**: This game generator, which is mostly for drawing the game visualizations, is completed for you. You may look at the code inside it, *but do not edit it*."
      ]
    },
    {
      "cell_type": "code",
      "source": [
        "#@title Create_game2 {display-mode: \"form\"}\n",
        "class Create_game2(Create_game):\n",
        "  def __init__(self):\n",
        "    super().__init__()\n",
        "    obstacles = [121, 22, 122, 14, 92, 3, 68, 88, 7, 89, 114, 45, 88, 74, 119]\n",
        "    self.blocks = np.r_[self.blocks, obstacles]\n",
        "    self.agent_pos = 87\n",
        "    self.rewards = np.ones((144)) * -1\n",
        "    self.rewards[self.blocks] = -10\n",
        "    self.rewards[self.goal_pos] = 50"
      ],
      "metadata": {
        "id": "FNT-XXGeuaeR"
      },
      "execution_count": null,
      "outputs": []
    },
    {
      "cell_type": "markdown",
      "source": [
        "##### **Let's take a look at the new map**:\n",
        "\n",
        "\n",
        "Hopefully you should be able to see some obstacles blocking the path to the Goal!\n",
        "\n",
        "These obstacles are represented by grey blocks and the agent receives a penalty for trying to move into them."
      ],
      "metadata": {
        "id": "HkrTOGsmKUv3"
      }
    },
    {
      "cell_type": "code",
      "source": [
        "game2 = Create_game2()\n",
        "game2.display()"
      ],
      "metadata": {
        "id": "rGB8Otp40OAY",
        "colab": {
          "base_uri": "https://localhost:8080/",
          "height": 616
        },
        "outputId": "68c0f807-315b-47dd-d7e7-d88bb03e706e"
      },
      "execution_count": null,
      "outputs": [
        {
          "output_type": "display_data",
          "data": {
            "text/plain": [
              "'12x12 Game Board'"
            ],
            "application/vnd.google.colaboratory.intrinsic+json": {
              "type": "string"
            }
          },
          "metadata": {}
        },
        {
          "output_type": "display_data",
          "data": {
            "text/plain": [
              "<Figure size 700x700 with 1 Axes>"
            ],
            "image/png": "[encoded data removed]"
          },
          "metadata": {}
        }
      ]
    },
    {
      "cell_type": "markdown",
      "source": [
        "#### **Steps \\#2 - 4: Create the RL Agent**\n",
        "\n",
        "**Complete this code using the same set of parameters that we used in Part 1.**\n",
        "\n",
        "<br>\n",
        "\n",
        ">**Knowledge check!**<br>\n",
        "If we have a 12x12 grid, how many states would we have? <br>\n",
        "If there are 4 possible moves, how many actions are there? <br>\n",
        "Using these two, how big must our Q table be?\n",
        "\n",
        "\n",
        "<br>\n",
        "\n",
        "As a reminder, a Q table acts as the memory for the Q-learning agent. It stores a value associated with how rewarding a given action is at a given state.\n",
        "\n",
        "*Useful equations and functions that were introduced earlier are repeated below for convenience:*\n",
        "\n",
        "<br>\n",
        "\n",
        "### **The Q function:**\n",
        "\n",
        "$$\n",
        "Q[S,A] = Q[S,A] + \\alpha \\{ reward + \\gamma\\max (Q[S]) - Q[S,A] \\}\n",
        "$$\n",
        "\n",
        "For our purposes we will set the learning rate $\\alpha$ `alpha=0.5` and the discount factor $\\gamma$ `gamma=0.8`\n",
        "\n",
        "<br>\n",
        "\n",
        "### Useful functions:\n",
        "\n",
        "**Generating a table of random numbers**\n",
        ">The `np.random.rand(x,y)` will create a grid of random numbers with `x` rows and `y` columns.\n",
        "\n",
        "**Getting the position of the max value of an arrar**\n",
        "> The `np.argmax(array)` will return the (zero indexed) position of the max value. For example `np.argmax([2,4,1,9,7,5])` will return `3`."
      ],
      "metadata": {
        "id": "htCO8yUkKc8c"
      }
    },
    {
      "cell_type": "code",
      "source": [
        "Q2 = np.random.rand(144,4)\n",
        "alpha =  # COMPLETE THIS LINE\n",
        "gamma =  # COMPLETE THIS LINE\n",
        "\n",
        "for episode in range(# COMPLETE THIS LINE\n",
        "  game2 = Create_game2()\n",
        "  state = game2.agent_pos\n",
        "  while game2.running:\n",
        "\n",
        "    # Exploitation Step\n",
        "    action = # COMPLETE THIS LINE\n",
        "\n",
        "    # Make a move in the Game2\n",
        "    new_state, reward = # COMPLETE THIS LINE\n",
        "\n",
        "    # Update the Q2 table\n",
        "    Q2[state, action] += # COMPLETE THIS LINE\n",
        "\n",
        "    # Update the State\n",
        "    state = # COMPLETE THIS LINE"
      ],
      "metadata": {
        "id": "77JSfgxnsfbR",
        "colab": {
          "base_uri": "https://localhost:8080/",
          "height": 131
        },
        "outputId": "e835bc1b-836e-46f0-e559-942947be9177"
      },
      "execution_count": null,
      "outputs": [
        {
          "output_type": "error",
          "ename": "SyntaxError",
          "evalue": "ignored",
          "traceback": [
            "\u001b[0;36m  File \u001b[0;32m\"<ipython-input-11-06cc9bb59a65>\"\u001b[0;36m, line \u001b[0;32m2\u001b[0m\n\u001b[0;31m    alpha =  # COMPLETE THIS LINE\u001b[0m\n\u001b[0m             ^\u001b[0m\n\u001b[0;31mSyntaxError\u001b[0m\u001b[0;31m:\u001b[0m invalid syntax\n"
          ]
        }
      ]
    },
    {
      "cell_type": "markdown",
      "source": [
        "##### **Solution**"
      ],
      "metadata": {
        "id": "4b8Qaer3_MPm"
      }
    },
    {
      "cell_type": "code",
      "source": [
        "Q2 = np.random.rand(144,4)\n",
        "alpha = 0.5\n",
        "gamma = 0.8\n",
        "\n",
        "for episode in range(100):\n",
        "  game2 = Create_game2()\n",
        "  state = game2.agent_pos\n",
        "  while game2.running:\n",
        "\n",
        "    # Exploitation Step\n",
        "    action = np.argmax(Q[state])\n",
        "\n",
        "    # Make a move in the Game2\n",
        "    new_state, reward = game.move(action)\n",
        "\n",
        "    # Update the Q2 table\n",
        "    Q2[state, action] += alpha*(reward + gamma*np.max(Q[new_state])) - Q2[state, action]\n",
        "\n",
        "    # Update the State\n",
        "    state = new_state"
      ],
      "metadata": {
        "id": "_casAMbR_L3R"
      },
      "execution_count": null,
      "outputs": []
    },
    {
      "cell_type": "markdown",
      "source": [
        "#### **Step #5: Watch the Agent play the game - did it learn correctly?**\n",
        "\n",
        "***This code is completed for you.***\n",
        "\n",
        "We will use the same function as before, but we will pass in the variable containing our new Q values and the variable containing the game2 generator (here it is called `Create_game2`)."
      ],
      "metadata": {
        "id": "n_wM6v8rKhtw"
      }
    },
    {
      "cell_type": "code",
      "source": [
        "# Test your agent!\n",
        "def test_agent(Q, Game):\n",
        "  test_game = Game()\n",
        "  state = test_game.player_pos\n",
        "\n",
        "  while test_game.running:\n",
        "    time.sleep(0.3)\n",
        "    action = np.argmax(Q[state])\n",
        "    state, _ = test_game.move(action)\n",
        "    test_game.display()\n",
        "\n",
        "  if state == test_game.goal_pos:\n",
        "    print(\"Agent Reached the Goal!\")\n",
        "\n",
        "# Pass your Q value table into this function below\n",
        "test_agent(Q2, Create_game2)"
      ],
      "metadata": {
        "id": "WK4S-IVn14Gx"
      },
      "execution_count": null,
      "outputs": []
    },
    {
      "cell_type": "markdown",
      "source": [
        "#### **Step \\#6: Observe the strategy of the RL Agent.**\n",
        "\n",
        "***Run the code below to visualize the strategy of your agent.***"
      ],
      "metadata": {
        "id": "jIqeZUsLK8xh"
      }
    },
    {
      "cell_type": "code",
      "source": [
        "# Visualise the Strategy of the Q learning Agent\n",
        "s = Create_game()\n",
        "s.display(Q=Q2)"
      ],
      "metadata": {
        "id": "h7Q6TfZZK8xp"
      },
      "execution_count": null,
      "outputs": []
    },
    {
      "cell_type": "markdown",
      "source": [
        "### **Congratulations! You've just completed your first Reinforcement Learning algorithm.**\n",
        "\n",
        "\n",
        "Some ways to explore this code further:\n",
        "* Change the number of episodes that the RL agents are allowed to train.\n",
        "* Change the parameters `alpha` and `gamma`.\n",
        "* Attempt creating a new level by altering the hidden code for creating the game. Specifically, there is a list called `obstacles` that lists the position of each obstacle. Simply change the numbers in here to create or remove obstacles."
      ],
      "metadata": {
        "id": "QyR3b54jrTYo"
      }
    },
    {
      "cell_type": "markdown",
      "source": [
        "<a name=\"p2\"></a>\n",
        "\n",
        "---\n",
        "## **Part 2: Frozen Lake**\n",
        "---\n",
        "\n",
        "\n",
        "The FrozenLake environment is a simple gridworld where the agent starts in the top-left corner and must navigate to the bottom-right corner while avoiding holes in the ice. The agent can move up, down, left, or right in each step."
      ],
      "metadata": {
        "id": "Ut8ZOpsY_1rE"
      }
    },
    {
      "cell_type": "markdown",
      "metadata": {
        "id": "oGAeDCm96z93"
      },
      "source": [
        "#### **Step #1: Create the environment.**\n",
        "\n",
        "In this case we are using the `FrozenLake` environment.\n",
        "\n",
        "\n",
        "**Run the following code before continuing:**"
      ]
    },
    {
      "cell_type": "code",
      "execution_count": null,
      "metadata": {
        "id": "HDVpDrFclCuZ",
        "colab": {
          "base_uri": "https://localhost:8080/"
        },
        "outputId": "f7df2b91-7935-4d94-8f29-615cc023e22d"
      },
      "outputs": [
        {
          "output_type": "stream",
          "name": "stderr",
          "text": [
            "/usr/local/lib/python3.8/dist-packages/gym/core.py:317: DeprecationWarning: \u001b[33mWARN: Initializing wrapper in old step API which returns one bool instead of two. It is recommended to set `new_step_api=True` to use new step API. This will be the default behaviour in future.\u001b[0m\n",
            "  deprecation(\n",
            "/usr/local/lib/python3.8/dist-packages/gym/wrappers/step_api_compatibility.py:39: DeprecationWarning: \u001b[33mWARN: Initializing environment in old step API which returns one bool instead of two. It is recommended to set `new_step_api=True` to use new step API. This will be the default behaviour in future.\u001b[0m\n",
            "  deprecation(\n"
          ]
        }
      ],
      "source": [
        "# Create the environment\n",
        "env = gym.make('FrozenLake-v1')"
      ]
    },
    {
      "cell_type": "markdown",
      "metadata": {
        "id": "Knf10o-_7Bei"
      },
      "source": [
        "#### **Step #2: Set up hyperparameters.**\n",
        "\n",
        "\n",
        "* `Learning rate` - a value between 0 and 1 that determines the step size at which the Q-table is updated in the algorithm.\n",
        "\n",
        "* `Discount factor` - a value between 0 and 1 used to balance the trade-off between short-term and long-term rewards.\n",
        "\n",
        "* `Number of episodes` - the number of times the agent will run through the environment and learn from its experiences.\n",
        "\n",
        "<br>\n",
        "\n",
        "**NOTE**: In this code, the learning rate is set to `0.8`, the discount factor is set to `0.95`, and the number of episodes is set to `2000`. However, they can be adjusted to see how it impacts the training process."
      ]
    },
    {
      "cell_type": "code",
      "execution_count": null,
      "metadata": {
        "id": "09xShQwhlE1c"
      },
      "outputs": [],
      "source": [
        "# Hyperparameters\n",
        "learning_rate = 0.8\n",
        "discount_factor = 0.95\n",
        "num_episodes = 2000"
      ]
    },
    {
      "cell_type": "markdown",
      "metadata": {
        "id": "7o4foZwW7_Cq"
      },
      "source": [
        "#### **Step #3: Initialize the Q-table.**\n"
      ]
    },
    {
      "cell_type": "code",
      "execution_count": null,
      "metadata": {
        "id": "QBZ7SAtJlJB1"
      },
      "outputs": [],
      "source": [
        "# Initialize the Q-table\n",
        "q_table = np.zeros((env.observation_space.n, env.action_space.n))\n"
      ]
    },
    {
      "cell_type": "code",
      "execution_count": null,
      "metadata": {
        "id": "AskVuwu_lLL3"
      },
      "outputs": [],
      "source": [
        "# Visualize the Q-table\n",
        "import matplotlib.pyplot as plt\n",
        "\n",
        "def visualize_q_table(q_table):\n",
        "    plt.imshow(q_table, cmap='hot', interpolation='nearest')\n",
        "    plt.show()\n"
      ]
    },
    {
      "cell_type": "markdown",
      "metadata": {
        "id": "WkEe-cNn8LYo"
      },
      "source": [
        "#### **Step #5: The Q-Learning Algorithm.**\n",
        "\n",
        "**Run the cell below to play the game. (*This may take a while to run.*)** While this runs, take a look at each step and try to determine what the code is doing.\n",
        "\n",
        "<br>\n",
        "\n",
        "The q-learning algorithm used in this code is a type of reinforcement learning algorithm that is used to train an agent to navigate through a given environment and make decisions based on the rewards it receives. The initialization above will be used to store the agent's knowledge of the environment. The agent then enters the environment and takes an action based on the current state. The agent's performance is evaluated by calculating the average reward per step.\n",
        "\n",
        "**The goal is to train the agent to navigate through this environment and reach the goal with a high average reward per step.**\n"
      ]
    },
    {
      "cell_type": "code",
      "execution_count": null,
      "metadata": {
        "id": "Ar-qmF3ulOmH",
        "colab": {
          "base_uri": "https://localhost:8080/",
          "height": 1000
        },
        "outputId": "901b9e06-6ff6-419f-c3a4-368ff2db87ff"
      },
      "outputs": [
        {
          "output_type": "stream",
          "name": "stdout",
          "text": [
            "Episode: 0, Average Reward: 0.00\n"
          ]
        },
        {
          "output_type": "display_data",
          "data": {
            "text/plain": [
              "<Figure size 432x288 with 1 Axes>"
            ],
            "image/png": "[encoded data removed]"
          },
          "metadata": {
            "needs_background": "light"
          }
        },
        {
          "output_type": "display_data",
          "data": {
            "text/plain": [
              "<Figure size 432x288 with 1 Axes>"
            ],
            "image/png": "[encoded data removed]"
          },
          "metadata": {
            "needs_background": "light"
          }
        },
        {
          "output_type": "stream",
          "name": "stdout",
          "text": [
            "Episode: 100, Average Reward: 0.00\n"
          ]
        },
        {
          "output_type": "display_data",
          "data": {
            "text/plain": [
              "<Figure size 432x288 with 1 Axes>"
            ],
            "image/png": "[encoded data removed]"
          },
          "metadata": {
            "needs_background": "light"
          }
        },
        {
          "output_type": "display_data",
          "data": {
            "text/plain": [
              "<Figure size 432x288 with 1 Axes>"
            ],
            "image/png": "[encoded data removed]"
          },
          "metadata": {
            "needs_background": "light"
          }
        },
        {
          "output_type": "stream",
          "name": "stdout",
          "text": [
            "Episode: 200, Average Reward: 0.00\n"
          ]
        },
        {
          "output_type": "display_data",
          "data": {
            "text/plain": [
              "<Figure size 432x288 with 1 Axes>"
            ],
            "image/png": "[encoded data removed]"
          },
          "metadata": {
            "needs_background": "light"
          }
        },
        {
          "output_type": "display_data",
          "data": {
            "text/plain": [
              "<Figure size 432x288 with 1 Axes>"
            ],
            "image/png": "[encoded data removed]"
          },
          "metadata": {
            "needs_background": "light"
          }
        },
        {
          "output_type": "stream",
          "name": "stdout",
          "text": [
            "Episode: 300, Average Reward: 0.00\n"
          ]
        },
        {
          "output_type": "display_data",
          "data": {
            "text/plain": [
              "<Figure size 432x288 with 1 Axes>"
            ],
            "image/png": "[encoded data removed]"
          },
          "metadata": {
            "needs_background": "light"
          }
        },
        {
          "output_type": "display_data",
          "data": {
            "text/plain": [
              "<Figure size 432x288 with 1 Axes>"
            ],
            "image/png": "[encoded data removed]"
          },
          "metadata": {
            "needs_background": "light"
          }
        },
        {
          "output_type": "stream",
          "name": "stdout",
          "text": [
            "Episode: 400, Average Reward: 0.00\n"
          ]
        },
        {
          "output_type": "display_data",
          "data": {
            "text/plain": [
              "<Figure size 432x288 with 1 Axes>"
            ],
            "image/png": "[encoded data removed]"
          },
          "metadata": {
            "needs_background": "light"
          }
        },
        {
          "output_type": "display_data",
          "data": {
            "text/plain": [
              "<Figure size 432x288 with 1 Axes>"
            ],
            "image/png": "[encoded data removed]"
          },
          "metadata": {
            "needs_background": "light"
          }
        },
        {
          "output_type": "stream",
          "name": "stdout",
          "text": [
            "Episode: 500, Average Reward: 0.00\n"
          ]
        },
        {
          "output_type": "display_data",
          "data": {
            "text/plain": [
              "<Figure size 432x288 with 1 Axes>"
            ],
            "image/png": "[encoded data removed]"
          },
          "metadata": {
            "needs_background": "light"
          }
        },
        {
          "output_type": "display_data",
          "data": {
            "text/plain": [
              "<Figure size 432x288 with 1 Axes>"
            ],
            "image/png": "[encoded data removed]"
          },
          "metadata": {
            "needs_background": "light"
          }
        },
        {
          "output_type": "stream",
          "name": "stdout",
          "text": [
            "Episode: 600, Average Reward: 0.00\n"
          ]
        },
        {
          "output_type": "display_data",
          "data": {
            "text/plain": [
              "<Figure size 432x288 with 1 Axes>"
            ],
            "image/png": "[encoded data removed]"
          },
          "metadata": {
            "needs_background": "light"
          }
        },
        {
          "output_type": "display_data",
          "data": {
            "text/plain": [
              "<Figure size 432x288 with 1 Axes>"
            ],
            "image/png": "[encoded data removed]"
          },
          "metadata": {
            "needs_background": "light"
          }
        },
        {
          "output_type": "stream",
          "name": "stdout",
          "text": [
            "Episode: 700, Average Reward: 0.00\n"
          ]
        },
        {
          "output_type": "display_data",
          "data": {
            "text/plain": [
              "<Figure size 432x288 with 1 Axes>"
            ],
            "image/png": "[encoded data removed]"
          },
          "metadata": {
            "needs_background": "light"
          }
        },
        {
          "output_type": "display_data",
          "data": {
            "text/plain": [
              "<Figure size 432x288 with 1 Axes>"
            ],
            "image/png": "[encoded data removed]"
          },
          "metadata": {
            "needs_background": "light"
          }
        },
        {
          "output_type": "stream",
          "name": "stdout",
          "text": [
            "Episode: 800, Average Reward: 1.00\n"
          ]
        },
        {
          "output_type": "display_data",
          "data": {
            "text/plain": [
              "<Figure size 432x288 with 1 Axes>"
            ],
            "image/png": "[encoded data removed]"
          },
          "metadata": {
            "needs_background": "light"
          }
        },
        {
          "output_type": "display_data",
          "data": {
            "text/plain": [
              "<Figure size 432x288 with 1 Axes>"
            ],
            "image/png": "[encoded data removed]"
          },
          "metadata": {
            "needs_background": "light"
          }
        },
        {
          "output_type": "stream",
          "name": "stdout",
          "text": [
            "Episode: 900, Average Reward: 0.00\n"
          ]
        },
        {
          "output_type": "display_data",
          "data": {
            "text/plain": [
              "<Figure size 432x288 with 1 Axes>"
            ],
            "image/png": "[encoded data removed]"
          },
          "metadata": {
            "needs_background": "light"
          }
        },
        {
          "output_type": "display_data",
          "data": {
            "text/plain": [
              "<Figure size 432x288 with 1 Axes>"
            ],
            "image/png": "[encoded data removed]"
          },
          "metadata": {
            "needs_background": "light"
          }
        },
        {
          "output_type": "stream",
          "name": "stdout",
          "text": [
            "Episode: 1000, Average Reward: 0.00\n"
          ]
        },
        {
          "output_type": "display_data",
          "data": {
            "text/plain": [
              "<Figure size 432x288 with 1 Axes>"
            ],
            "image/png": "[encoded data removed]"
          },
          "metadata": {
            "needs_background": "light"
          }
        },
        {
          "output_type": "display_data",
          "data": {
            "text/plain": [
              "<Figure size 432x288 with 1 Axes>"
            ],
            "image/png": "[encoded data removed]"
          },
          "metadata": {
            "needs_background": "light"
          }
        },
        {
          "output_type": "stream",
          "name": "stdout",
          "text": [
            "Episode: 1100, Average Reward: 0.00\n"
          ]
        },
        {
          "output_type": "display_data",
          "data": {
            "text/plain": [
              "<Figure size 432x288 with 1 Axes>"
            ],
            "image/png": "[encoded data removed]"
          },
          "metadata": {
            "needs_background": "light"
          }
        },
        {
          "output_type": "display_data",
          "data": {
            "text/plain": [
              "<Figure size 432x288 with 1 Axes>"
            ],
            "image/png": "[encoded data removed]"
          },
          "metadata": {
            "needs_background": "light"
          }
        },
        {
          "output_type": "stream",
          "name": "stdout",
          "text": [
            "Episode: 1200, Average Reward: 0.00\n"
          ]
        },
        {
          "output_type": "display_data",
          "data": {
            "text/plain": [
              "<Figure size 432x288 with 1 Axes>"
            ],
            "image/png": "[encoded data removed]"
          },
          "metadata": {
            "needs_background": "light"
          }
        },
        {
          "output_type": "display_data",
          "data": {
            "text/plain": [
              "<Figure size 432x288 with 1 Axes>"
            ],
            "image/png": "[encoded data removed]"
          },
          "metadata": {
            "needs_background": "light"
          }
        },
        {
          "output_type": "stream",
          "name": "stdout",
          "text": [
            "Episode: 1300, Average Reward: 0.00\n"
          ]
        },
        {
          "output_type": "display_data",
          "data": {
            "text/plain": [
              "<Figure size 432x288 with 1 Axes>"
            ],
            "image/png": "[encoded data removed]"
          },
          "metadata": {
            "needs_background": "light"
          }
        },
        {
          "output_type": "display_data",
          "data": {
            "text/plain": [
              "<Figure size 432x288 with 1 Axes>"
            ],
            "image/png": "[encoded data removed]"
          },
          "metadata": {
            "needs_background": "light"
          }
        },
        {
          "output_type": "stream",
          "name": "stdout",
          "text": [
            "Episode: 1400, Average Reward: 0.00\n"
          ]
        },
        {
          "output_type": "display_data",
          "data": {
            "text/plain": [
              "<Figure size 432x288 with 1 Axes>"
            ],
            "image/png": "[encoded data removed]"
          },
          "metadata": {
            "needs_background": "light"
          }
        },
        {
          "output_type": "display_data",
          "data": {
            "text/plain": [
              "<Figure size 432x288 with 1 Axes>"
            ],
            "image/png": "[encoded data removed]"
          },
          "metadata": {
            "needs_background": "light"
          }
        },
        {
          "output_type": "stream",
          "name": "stdout",
          "text": [
            "Episode: 1500, Average Reward: 0.00\n"
          ]
        },
        {
          "output_type": "display_data",
          "data": {
            "text/plain": [
              "<Figure size 432x288 with 1 Axes>"
            ],
            "image/png": "[encoded data removed]"
          },
          "metadata": {
            "needs_background": "light"
          }
        },
        {
          "output_type": "display_data",
          "data": {
            "text/plain": [
              "<Figure size 432x288 with 1 Axes>"
            ],
            "image/png": "[encoded data removed]"
          },
          "metadata": {
            "needs_background": "light"
          }
        },
        {
          "output_type": "stream",
          "name": "stdout",
          "text": [
            "Episode: 1600, Average Reward: 0.00\n"
          ]
        },
        {
          "output_type": "display_data",
          "data": {
            "text/plain": [
              "<Figure size 432x288 with 1 Axes>"
            ],
            "image/png": "[encoded data removed]"
          },
          "metadata": {
            "needs_background": "light"
          }
        },
        {
          "output_type": "display_data",
          "data": {
            "text/plain": [
              "<Figure size 432x288 with 1 Axes>"
            ],
            "image/png": "[encoded data removed]"
          },
          "metadata": {
            "needs_background": "light"
          }
        },
        {
          "output_type": "stream",
          "name": "stdout",
          "text": [
            "Episode: 1700, Average Reward: 0.00\n"
          ]
        },
        {
          "output_type": "display_data",
          "data": {
            "text/plain": [
              "<Figure size 432x288 with 1 Axes>"
            ],
            "image/png": "[encoded data removed]"
          },
          "metadata": {
            "needs_background": "light"
          }
        },
        {
          "output_type": "display_data",
          "data": {
            "text/plain": [
              "<Figure size 432x288 with 1 Axes>"
            ],
            "image/png": "[encoded data removed]"
          },
          "metadata": {
            "needs_background": "light"
          }
        },
        {
          "output_type": "stream",
          "name": "stdout",
          "text": [
            "Episode: 1800, Average Reward: 0.00\n"
          ]
        },
        {
          "output_type": "display_data",
          "data": {
            "text/plain": [
              "<Figure size 432x288 with 1 Axes>"
            ],
            "image/png": "[encoded data removed]"
          },
          "metadata": {
            "needs_background": "light"
          }
        },
        {
          "output_type": "display_data",
          "data": {
            "text/plain": [
              "<Figure size 432x288 with 1 Axes>"
            ],
            "image/png": "[encoded data removed]"
          },
          "metadata": {
            "needs_background": "light"
          }
        },
        {
          "output_type": "stream",
          "name": "stdout",
          "text": [
            "Episode: 1900, Average Reward: 0.00\n"
          ]
        },
        {
          "output_type": "display_data",
          "data": {
            "text/plain": [
              "<Figure size 432x288 with 1 Axes>"
            ],
            "image/png": "[encoded data removed]"
          },
          "metadata": {
            "needs_background": "light"
          }
        },
        {
          "output_type": "display_data",
          "data": {
            "text/plain": [
              "<Figure size 432x288 with 1 Axes>"
            ],
            "image/png": "[encoded data removed]"
          },
          "metadata": {
            "needs_background": "light"
          }
        }
      ],
      "source": [
        "for episode in range(num_episodes):\n",
        "    # reset the environment\n",
        "    env.reset()\n",
        "    state = env.s\n",
        "    episode_rewards = 0\n",
        "    done = False\n",
        "\n",
        "    while not done:\n",
        "        # select the action with the highest Q-value\n",
        "        if np.max(q_table[state]) > 0:\n",
        "            action = np.argmax(q_table[state])\n",
        "        # if there's no best action (only zeros), take a random one\n",
        "        else:\n",
        "            action = env.action_space.sample()\n",
        "\n",
        "        # take the action and observe the outcome\n",
        "        new_state, reward, done, _ = env.step(action)\n",
        "        # update the Q-value for the current state-action pair\n",
        "        q_table[state, action] = q_table[state, action] + learning_rate * (reward + discount_factor * np.max(q_table[new_state, :]) - q_table[state, action])\n",
        "        episode_rewards += reward\n",
        "        state = new_state\n",
        "\n",
        "    if episode % 100 == 0:\n",
        "        print('Episode: {}, Average Reward: {:.2f}'.format(episode, episode_rewards))\n",
        "    if episode % 50 == 0:\n",
        "        visualize_q_table(q_table)\n"
      ]
    },
    {
      "cell_type": "markdown",
      "source": [
        "#End of Notebook\n",
        "\n",
        "---\n",
        "© 2023 The Coding School, All rights reserved"
      ],
      "metadata": {
        "id": "9zW6NkGQrOrK"
      }
    }
  ]
}